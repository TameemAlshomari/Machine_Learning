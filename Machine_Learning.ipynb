{
  "nbformat": 4,
  "nbformat_minor": 0,
  "metadata": {
    "colab": {
      "name": "Machine_Learning.ipynb",
      "provenance": [],
      "collapsed_sections": []
    },
    "kernelspec": {
      "name": "python3",
      "display_name": "Python 3"
    },
    "language_info": {
      "name": "python"
    }
  },
  "cells": [
    {
      "cell_type": "code",
      "metadata": {
        "id": "bnnCTFVyclp4"
      },
      "source": [
        "import numpy as np\n",
        "import pandas as pd\n",
        "import matplotlib.pyplot as plt\n",
        "from scipy import stats\n",
        "from sklearn.preprocessing import OneHotEncoder\n",
        "from sklearn.model_selection import GridSearchCV, StratifiedKFold\n",
        "from sklearn.tree import DecisionTreeClassifier\n",
        "from sklearn.svm import SVC\n",
        "from sklearn.linear_model import LogisticRegression\n",
        "from sklearn.neighbors import KNeighborsClassifier"
      ],
      "execution_count": null,
      "outputs": []
    },
    {
      "cell_type": "code",
      "metadata": {
        "id": "p_vWVm1OhsW_"
      },
      "source": [
        "def read_dataset(file, test=False):\n",
        "  rows = list()\n",
        "\n",
        "  with open(file) as f:\n",
        "    for line in f.readlines():\n",
        "        line = line.strip().replace('\\n', '')\n",
        "        if len(line) == 0: continue\n",
        "        row = list()\n",
        "        for value in line.split(','):\n",
        "          if value == 'NA':\n",
        "            row.append(None)\n",
        "            continue\n",
        "          try:\n",
        "            row.append(float(value))\n",
        "          except:\n",
        "            row.append(value)\n",
        "        np.expand_dims(row, axis=0)\n",
        "        rows.append(row)\n",
        "  dataset = np.vstack([row for row in rows])\n",
        "\n",
        "  types = {}\n",
        "\n",
        "  for i in range(1,34):\n",
        "    if i > 14:\n",
        "      types['X'+str(i)] = 'float32'\n",
        "  \n",
        "  if not test:\n",
        "\n",
        "    types['Y'] = 'float32'\n",
        "\n",
        "    cols = ['X'+str(i) for i in range(1,34)]+['Y']\n",
        "  else:\n",
        "    cols = ['X'+str(i) for i in range(1,34)]\n",
        "  ds_frame = pd.DataFrame(data=dataset, columns = cols).astype(\n",
        "      types\n",
        "  )\n",
        "\n",
        "  return ds_frame"
      ],
      "execution_count": null,
      "outputs": []
    },
    {
      "cell_type": "code",
      "metadata": {
        "colab": {
          "base_uri": "https://localhost:8080/"
        },
        "id": "3b3EXpzgxADe",
        "outputId": "823da81b-8924-4776-f491-e68872057ea6"
      },
      "source": [
        "# fill in missing values\n",
        "# for string values we fill in the missing values using the most frequent value\n",
        "# for numerical values and since the data is normalized we fill in the missing values with zero since it is the mean of\n",
        "# any normalized data\n",
        "\n",
        "dataset = read_dataset('train.csv')\n",
        "dataset.isna().any()"
      ],
      "execution_count": null,
      "outputs": [
        {
          "output_type": "execute_result",
          "data": {
            "text/plain": [
              "X1      True\n",
              "X2      True\n",
              "X3      True\n",
              "X4     False\n",
              "X5     False\n",
              "X6      True\n",
              "X7      True\n",
              "X8      True\n",
              "X9     False\n",
              "X10    False\n",
              "X11    False\n",
              "X12    False\n",
              "X13     True\n",
              "X14     True\n",
              "X15     True\n",
              "X16     True\n",
              "X17     True\n",
              "X18     True\n",
              "X19     True\n",
              "X20     True\n",
              "X21     True\n",
              "X22     True\n",
              "X23     True\n",
              "X24     True\n",
              "X25     True\n",
              "X26     True\n",
              "X27     True\n",
              "X28     True\n",
              "X29     True\n",
              "X30     True\n",
              "X31     True\n",
              "X32     True\n",
              "X33     True\n",
              "Y      False\n",
              "dtype: bool"
            ]
          },
          "metadata": {
            "tags": []
          },
          "execution_count": 160
        }
      ]
    },
    {
      "cell_type": "code",
      "metadata": {
        "id": "LUc3TN5z0N5u"
      },
      "source": [
        "def find_mode(ar):\n",
        "  return stats.mode(ar).mode[0]"
      ],
      "execution_count": null,
      "outputs": []
    },
    {
      "cell_type": "code",
      "metadata": {
        "id": "deGIW0rqxyk3"
      },
      "source": [
        "def fill_missing_values(dataset):\n",
        "\n",
        "  # ['X1', 'X2','X3','X6','X7','X8','X13', 'X14']\n",
        "  \n",
        "  values = {\n",
        "      'X1': find_mode(dataset['X1'].to_numpy().astype(np.str)),\n",
        "      'X2': find_mode(dataset['X2'].to_numpy().astype(np.str)),\n",
        "      'X3': find_mode(dataset['X3'].to_numpy().astype(np.str)), \n",
        "      'X6': find_mode(dataset['X6'].to_numpy().astype(np.str)),\n",
        "      'X7': find_mode(dataset['X7'].to_numpy().astype(np.str)), \n",
        "      'X8': find_mode(dataset['X8'].to_numpy().astype(np.str)), \n",
        "      'X13': find_mode(dataset['X13'].to_numpy().astype(np.str)),\n",
        "      'X14': find_mode(dataset['X14'].to_numpy().astype(np.str)),\n",
        "  }\n",
        "\n",
        "  for i in range(15, 34):\n",
        "    values['X'+str(i)] = 0\n",
        "\n",
        "  dataset.fillna(value=values, inplace=True)\n",
        "  print(dataset.head(n=10))\n",
        "  dataset.isna().any()\n",
        "  \n",
        "  return dataset"
      ],
      "execution_count": null,
      "outputs": []
    },
    {
      "cell_type": "code",
      "metadata": {
        "colab": {
          "base_uri": "https://localhost:8080/"
        },
        "id": "UAE5dRCdAO31",
        "outputId": "80ddaf0d-1491-49b5-a234-174ac3e24ea9"
      },
      "source": [
        "dataset = fill_missing_values(dataset)"
      ],
      "execution_count": null,
      "outputs": [
        {
          "output_type": "stream",
          "text": [
            "   X1  X2  X3  X4  X5  X6  X7  ...    X28    X29    X30    X31    X32    X33    Y\n",
            "0  V1  V1  V1  V1  V1  V1  V1  ...  0.182  0.034 -0.172  0.401  0.393  0.216  1.0\n",
            "1  V1  V1  V1  V1  V1  V1  V2  ...  1.098  0.034  1.160  0.401  0.037  0.216  1.0\n",
            "2  V1  V1  V1  V1  V1  V1  V1  ...  1.098  0.034  0.716  0.401  0.724  0.216 -1.0\n",
            "3  V1  V1  V1  V1  V1  V1  V1  ...  1.098  0.034  0.716  0.401  0.712  0.216 -1.0\n",
            "4  V1  V1  V1  V1  V1  V1  V1  ...  0.182  0.034  0.716  0.401  0.393  0.216  1.0\n",
            "5  V1  V1  V1  V1  V1  V1  V1  ...  0.731  0.034  0.716  0.401  0.724  0.216  1.0\n",
            "6  V1  V1  V1  V1  V1  V1  V1  ... -0.735  0.034  1.160  0.401 -0.605  0.216  1.0\n",
            "7  V1  V1  V1  V1  V1  V1  V1  ...  0.182  0.034  0.716  0.401  0.037  0.216 -1.0\n",
            "8  V2  V1  V1  V2  V2  V1  V1  ...  0.182  0.034  1.160  0.401  0.037  0.216  1.0\n",
            "9  V2  V1  V1  V2  V2  V1  V1  ...  0.182 -0.510 -0.394  0.401 -0.605  0.216 -1.0\n",
            "\n",
            "[10 rows x 34 columns]\n"
          ],
          "name": "stdout"
        }
      ]
    },
    {
      "cell_type": "code",
      "metadata": {
        "id": "Be-O7aNr2Cr2"
      },
      "source": [
        "Y = dataset['Y'].astype(np.int32)\n",
        "X = dataset.drop(columns=['Y'])"
      ],
      "execution_count": null,
      "outputs": []
    },
    {
      "cell_type": "code",
      "metadata": {
        "id": "9uDVI6be5gcO"
      },
      "source": [
        "encoder = OneHotEncoder()\n",
        "\n",
        "nominal_data = X[['X'+str(i) for i in range(1,15)]]\n",
        "\n",
        "encoder.fit(nominal_data)\n",
        "\n",
        "transformed_data = encoder.transform(nominal_data).toarray()\n",
        "\n",
        "X_ready = np.hstack((transformed_data, X[['X'+str(i) for i in range(15,34)]].to_numpy()))"
      ],
      "execution_count": null,
      "outputs": []
    },
    {
      "cell_type": "code",
      "metadata": {
        "colab": {
          "base_uri": "https://localhost:8080/"
        },
        "id": "dWKJybiG8FAG",
        "outputId": "f764e4cf-6b02-4de8-b279-6d0fe61d94aa"
      },
      "source": [
        "# Train different Classifiers\n",
        "\n",
        "gscv = GridSearchCV(\n",
        "    estimator=SVC(),\n",
        "    param_grid = {'kernel': ['rbf', 'linear'], 'C':[0.1, 1, 10, 100]},\n",
        "    cv=StratifiedKFold(n_splits=5)\n",
        ")\n",
        "\n",
        "gscv.fit(X_ready, Y)"
      ],
      "execution_count": null,
      "outputs": [
        {
          "output_type": "execute_result",
          "data": {
            "text/plain": [
              "GridSearchCV(cv=StratifiedKFold(n_splits=5, random_state=None, shuffle=False),\n",
              "             error_score=nan,\n",
              "             estimator=SVC(C=1.0, break_ties=False, cache_size=200,\n",
              "                           class_weight=None, coef0=0.0,\n",
              "                           decision_function_shape='ovr', degree=3,\n",
              "                           gamma='scale', kernel='rbf', max_iter=-1,\n",
              "                           probability=False, random_state=None, shrinking=True,\n",
              "                           tol=0.001, verbose=False),\n",
              "             iid='deprecated', n_jobs=None,\n",
              "             param_grid={'C': [0.1, 1, 10, 100], 'kernel': ['rbf', 'linear']},\n",
              "             pre_dispatch='2*n_jobs', refit=True, return_train_score=False,\n",
              "             scoring=None, verbose=0)"
            ]
          },
          "metadata": {
            "tags": []
          },
          "execution_count": 170
        }
      ]
    },
    {
      "cell_type": "code",
      "metadata": {
        "colab": {
          "base_uri": "https://localhost:8080/"
        },
        "id": "NJVku6K09dDF",
        "outputId": "04bd8c20-7ec8-4b51-d7a3-75c25e2cc067"
      },
      "source": [
        "print(gscv.best_score_)\n",
        "\n",
        "best_cls = gscv.best_estimator_"
      ],
      "execution_count": null,
      "outputs": [
        {
          "output_type": "stream",
          "text": [
            "0.6975\n"
          ],
          "name": "stdout"
        }
      ]
    },
    {
      "cell_type": "code",
      "metadata": {
        "colab": {
          "base_uri": "https://localhost:8080/"
        },
        "id": "k-AUucfs_BK2",
        "outputId": "e4fdef82-30e5-4ab5-ee69-593840e68e7e"
      },
      "source": [
        "# perform the same preprocessing on test data\n",
        "\n",
        "test_data = read_dataset('test.csv', test=True)\n",
        "\n",
        "test_data = fill_missing_values(test_data)\n",
        "\n",
        "nominal_data = test_data[['X'+str(i) for i in range(1,15)]]\n",
        "\n",
        "transformed_data = encoder.transform(nominal_data).toarray()\n",
        "\n",
        "X_test_ready = np.hstack((transformed_data, test_data[['X'+str(i) for i in range(15,34)]].to_numpy()))"
      ],
      "execution_count": null,
      "outputs": [
        {
          "output_type": "stream",
          "text": [
            "   X1  X2  X3  X4  X5  X6  X7  ...    X27    X28    X29    X30    X31    X32    X33\n",
            "0  V2  V1  V1  V1  V2  V1  V1  ... -0.092  0.182  2.751 -0.394  0.401  0.724  0.216\n",
            "1  V2  V1  V1  V1  V2  V1  V1  ... -0.092  1.098  1.393 -0.394  0.401  0.724  0.216\n",
            "2  V2  V1  V1  V1  V2  V1  V1  ... -0.092  0.548 -0.782  0.050  0.401  0.018  0.216\n",
            "3  V2  V1  V1  V1  V2  V1  V1  ... -0.092 -1.651 -1.325  0.050  0.401  0.018  0.216\n",
            "4  V2  V1  V1  V2  V2  V1  V1  ... -0.092 -0.552  1.936 -0.394  0.401  0.018  0.216\n",
            "5  V2  V1  V1  V2  V2  V1  V1  ... -0.092  0.182  0.034 -1.060  0.401  0.724  0.216\n",
            "6  V1  V1  V1  V2  V2  V1  V1  ... -0.092  0.000  0.000  1.160  0.401  0.724  0.216\n",
            "7  V2  V1  V1  V2  V2  V1  V1  ... -0.092  0.915  0.849 -0.394  0.401  0.724  0.216\n",
            "8  V2  V1  V1  V2  V2  V1  V1  ... -0.092  0.915  0.849 -0.394  0.401 -0.605  0.216\n",
            "9  V1  V1  V1  V1  V3  V1  V1  ... -0.092  0.182 -0.238  1.160  0.401  0.724  0.216\n",
            "\n",
            "[10 rows x 33 columns]\n"
          ],
          "name": "stdout"
        }
      ]
    },
    {
      "cell_type": "code",
      "metadata": {
        "colab": {
          "base_uri": "https://localhost:8080/"
        },
        "id": "KWUIQWdXBasm",
        "outputId": "27b8dbd5-1bbe-4430-fe49-9a415ba713ad"
      },
      "source": [
        "# perform predictions using the best estimator on test data\n",
        "best_cls.predict(X_test_ready)"
      ],
      "execution_count": null,
      "outputs": [
        {
          "output_type": "execute_result",
          "data": {
            "text/plain": [
              "array([-1, -1, -1, -1,  1, -1, -1, -1, -1,  1, -1, -1,  1, -1, -1, -1, -1,\n",
              "       -1,  1,  1,  1,  1,  1, -1, -1,  1, -1, -1, -1, -1, -1, -1, -1,  1,\n",
              "       -1,  1, -1, -1,  1, -1, -1,  1, -1, -1, -1, -1, -1, -1,  1, -1,  1,\n",
              "        1, -1,  1, -1, -1, -1, -1,  1, -1, -1,  1, -1, -1,  1, -1,  1, -1,\n",
              "        1, -1, -1, -1, -1, -1, -1, -1, -1, -1, -1,  1, -1, -1, -1,  1,  1,\n",
              "       -1,  1,  1, -1, -1,  1, -1, -1, -1, -1, -1, -1,  1, -1, -1],\n",
              "      dtype=int32)"
            ]
          },
          "metadata": {
            "tags": []
          },
          "execution_count": 173
        }
      ]
    }
  ]
}